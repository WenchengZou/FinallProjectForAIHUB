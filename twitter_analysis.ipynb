{
 "cells": [
  {
   "cell_type": "code",
   "execution_count": 49,
   "metadata": {},
   "outputs": [
    {
     "name": "stdout",
     "output_type": "stream",
     "text": [
      "(25, 3)\n",
      "[3 2 2 1 2 3 4 4 3 2 1 2 3 4 4 3 2 1 1 3 3 3 2 0 0]\n"
     ]
    }
   ],
   "source": [
    "import numpy as np\n",
    "import matplotlib.pyplot as plt\n",
    "\n",
    "# TensorFlow and tf.keras\n",
    "import tensorflow as tf\n",
    "import pandas as pd\n",
    "from tensorflow import keras\n",
    "from tensorflow.keras import layers\n",
    "from tensorflow.keras import models\n",
    "from tensorflow.keras.layers import Dense\n",
    "from tensorflow.keras.models import Sequential\n",
    "from tensorflow.keras.regularizers import l2\n",
    "\n",
    "\n",
    "# Load the data to x_train, x_test, y_train, y_test\n",
    "x_train = pd.read_csv('Dataset/twitter.csv')\n",
    "x_train = x_train[['neurate','posrate','negrate']]\n",
    "x_train = x_train.values\n",
    "print(x_train.shape)\n",
    "y_train = pd.read_csv('Dataset/twitter.csv')\n",
    "y_train = y_train[['increaserange']]\n",
    "y_train = y_train.values\n",
    "y_train = y_train.reshape(25,)\n",
    "print(y_train)"
   ]
  },
  {
   "cell_type": "code",
   "execution_count": 81,
   "metadata": {},
   "outputs": [
    {
     "name": "stdout",
     "output_type": "stream",
     "text": [
      "Epoch 1/10\n",
      "13/13 [==============================] - 0s 935us/step - loss: 1.6380 - accuracy: 0.1600\n",
      "Epoch 2/10\n",
      "13/13 [==============================] - 0s 1ms/step - loss: 1.6226 - accuracy: 0.2000\n",
      "Epoch 3/10\n",
      "13/13 [==============================] - 0s 1ms/step - loss: 1.6135 - accuracy: 0.2400\n",
      "Epoch 4/10\n",
      "13/13 [==============================] - 0s 958us/step - loss: 1.6050 - accuracy: 0.3200\n",
      "Epoch 5/10\n",
      "13/13 [==============================] - 0s 912us/step - loss: 1.5947 - accuracy: 0.3200\n",
      "Epoch 6/10\n",
      "13/13 [==============================] - 0s 1ms/step - loss: 1.5878 - accuracy: 0.3200\n",
      "Epoch 7/10\n",
      "13/13 [==============================] - 0s 1ms/step - loss: 1.5802 - accuracy: 0.3200\n",
      "Epoch 8/10\n",
      "13/13 [==============================] - 0s 997us/step - loss: 1.5741 - accuracy: 0.3200\n",
      "Epoch 9/10\n",
      "13/13 [==============================] - 0s 916us/step - loss: 1.5696 - accuracy: 0.3200\n",
      "Epoch 10/10\n",
      "13/13 [==============================] - 0s 1ms/step - loss: 1.5641 - accuracy: 0.3200\n",
      "dict_keys(['loss', 'accuracy'])\n",
      "Model: \"sequential_52\"\n",
      "_________________________________________________________________\n",
      "Layer (type)                 Output Shape              Param #   \n",
      "=================================================================\n",
      "dense_125 (Dense)            multiple                  128       \n",
      "_________________________________________________________________\n",
      "dense_126 (Dense)            multiple                  528       \n",
      "_________________________________________________________________\n",
      "dense_127 (Dense)            multiple                  85        \n",
      "=================================================================\n",
      "Total params: 741\n",
      "Trainable params: 741\n",
      "Non-trainable params: 0\n",
      "_________________________________________________________________\n",
      "[[0.15453558 0.20172983 0.1992979  0.25531322 0.18912347]\n",
      " [0.15475559 0.20030843 0.19949217 0.25605854 0.18938519]\n",
      " [0.15344605 0.19839086 0.19736077 0.26470348 0.18609881]\n",
      " [0.15443453 0.2018477  0.1991577  0.25564864 0.18891136]\n",
      " [0.15440096 0.19939487 0.19887528 0.25891057 0.18841837]\n",
      " [0.15446281 0.19989377 0.19901484 0.2579851  0.18864346]\n",
      " [0.15394399 0.20089793 0.1983348  0.2591934  0.18762986]\n",
      " [0.15408792 0.20031594 0.19849491 0.25924128 0.18785991]\n",
      " [0.1541771  0.19780055 0.19839163 0.26198435 0.18764637]\n",
      " [0.15327746 0.19691336 0.19697484 0.26734462 0.18548977]\n",
      " [0.15346521 0.19793928 0.19734743 0.26517835 0.1860697 ]\n",
      " [0.15415956 0.20160194 0.19872293 0.25727624 0.1882393 ]\n",
      " [0.15413001 0.20108789 0.19863036 0.25806653 0.18808511]\n",
      " [0.15374519 0.19976676 0.19793287 0.26156226 0.186993  ]\n",
      " [0.15398677 0.20175713 0.19849993 0.25785607 0.18790013]\n",
      " [0.15388809 0.20065595 0.19822879 0.25976437 0.18746278]\n",
      " [0.15356016 0.19917649 0.19760291 0.26317978 0.18648064]\n",
      " [0.15423301 0.2014616  0.19881953 0.2571024  0.18838345]\n",
      " [0.15379871 0.19556466 0.1976165  0.26731503 0.18570502]\n",
      " [0.15406498 0.19834931 0.19827627 0.2618265  0.18748295]\n",
      " [0.1546742  0.20275839 0.19960392 0.25334153 0.18962198]\n",
      " [0.15388381 0.20051877 0.19820958 0.25995746 0.18743034]\n",
      " [0.1543882  0.2005551  0.19896589 0.2575061  0.18858472]\n",
      " [0.15435681 0.20081586 0.19894363 0.2573267  0.1885571 ]\n",
      " [0.15402506 0.19873579 0.19825308 0.26152995 0.18745612]]\n",
      "4\n",
      "4\n",
      "4\n",
      "4\n",
      "4\n",
      "4\n",
      "4\n",
      "4\n",
      "4\n",
      "4\n",
      "4\n",
      "4\n",
      "4\n",
      "4\n",
      "4\n",
      "4\n",
      "4\n",
      "4\n",
      "4\n",
      "4\n"
     ]
    },
    {
     "data": {
      "image/png": "[encoded data removed]",
      "text/plain": [
       "<Figure size 432x288 with 1 Axes>"
      ]
     },
     "metadata": {
      "needs_background": "light"
     },
     "output_type": "display_data"
    }
   ],
   "source": [
    "model = tf.keras.models.Sequential([\n",
    "  tf.keras.layers.Dense(32, activation='relu'),\n",
    "  tf.keras.layers.Dense(16, activation='relu'),\n",
    "  tf.keras.layers.Dense(5, activation='softmax')\n",
    "])\n",
    "\n",
    "loss_fn = tf.keras.losses.SparseCategoricalCrossentropy()\n",
    "optimizer = tf.keras.optimizers.Adam()\n",
    "\n",
    "model.compile(optimizer=optimizer,\n",
    "              loss=loss_fn,\n",
    "              metrics=['accuracy'])\n",
    "\"\"\"\n",
    "Fit your model to the train set \n",
    "\n",
    "This is the part that takes the longest in terms of time and where having GPUs helps. \n",
    "Save the return value of the call to `fit` in a variable `history` so we can inspect the training history later.\n",
    "    \n",
    "You may want to start by just doing a few epochs.\n",
    "\"\"\"\n",
    "# Fit \n",
    "history = model.fit(x_train,y_train,epochs=10,batch_size=2)\n",
    "print(history.history.keys())\n",
    "plt.plot(history.history['loss'])\n",
    "plt.savefig('loss.png')\n",
    "# Use the `model.save` function to save the weights. The extension of the file should be a .h5\n",
    "model.save('fashion_model_new.h5')\n",
    "model.summary()\n",
    "result = model.predict(x_train)\n",
    "print(result)\n",
    "for i in range(0,20):\n",
    "    k = np.argmax(result[i])\n",
    "    print(k+1)"
   ]
  },
  {
   "cell_type": "code",
   "execution_count": null,
   "metadata": {},
   "outputs": [],
   "source": []
  }
 ],
 "metadata": {
  "kernelspec": {
   "display_name": "Python 3",
   "language": "python",
   "name": "python3"
  },
  "language_info": {
   "codemirror_mode": {
    "name": "ipython",
    "version": 3
   },
   "file_extension": ".py",
   "mimetype": "text/x-python",
   "name": "python",
   "nbconvert_exporter": "python",
   "pygments_lexer": "ipython3",
   "version": "3.7.4"
  }
 },
 "nbformat": 4,
 "nbformat_minor": 2
}
