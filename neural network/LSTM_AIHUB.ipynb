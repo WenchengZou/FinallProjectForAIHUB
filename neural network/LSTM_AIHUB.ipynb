{
 "cells": [
  {
   "cell_type": "code",
   "execution_count": 2,
   "metadata": {
    "colab": {},
    "colab_type": "code",
    "id": "mPAOzOHcoh8R"
   },
   "outputs": [],
   "source": [
    "import pandas as pd\n",
    "import numpy as np\n",
    "import matplotlib.pyplot as plt\n",
    "import sklearn\n",
    "from sklearn.preprocessing import MinMaxScaler\n",
    "from keras.preprocessing.sequence import TimeseriesGenerator\n",
    "from keras.models import Sequential\n",
    "from keras.layers import LSTM\n",
    "from keras.layers import Dropout\n",
    "from keras.layers import Dense"
   ]
  },
  {
   "cell_type": "markdown",
   "metadata": {
    "colab_type": "text",
    "id": "4ukNxfvhoh82"
   },
   "source": [
    "### Function to get the number of confirmed cases as a Dataframe"
   ]
  },
  {
   "cell_type": "code",
   "execution_count": 3,
   "metadata": {
    "colab": {},
    "colab_type": "code",
    "id": "Gg0-k3ukoh83"
   },
   "outputs": [],
   "source": [
    "# This function helps to load data from csv and transform into a dataframe with customized column name.\n",
    "def get_confirmed():\n",
    "    con_casesnew = pd.read_csv('/Users/waldo/AI HUB/Project/FinallProject/Dataset/us_daily_single.csv')\n",
    "    con_casesnew = con_casesnew.sum(axis=1)\n",
    "    print(con_casesnew.head())\n",
    "    con_casesnew = pd.DataFrame(con_casesnew)\n",
    "    con_casesnew.rename(columns={0: \"Infected Increase\"}, inplace=True)\n",
    "    return con_casesnew"
   ]
  },
  {
   "cell_type": "markdown",
   "metadata": {
    "colab_type": "text",
    "id": "R-Bppul_oh9W"
   },
   "source": [
    "### Forecasting Positive Cases"
   ]
  },
  {
   "cell_type": "code",
   "execution_count": 4,
   "metadata": {
    "colab": {
     "base_uri": "https://localhost:8080/",
     "height": 195
    },
    "colab_type": "code",
    "id": "l5FbqJcHoh9W",
    "outputId": "042348d7-b6fb-477e-cfa6-296c2c1e2a9b"
   },
   "outputs": [
    {
     "name": "stdout",
     "output_type": "stream",
     "text": [
      "0    0\n",
      "1    0\n",
      "2    0\n",
      "3    0\n",
      "4    0\n",
      "dtype: int64\n"
     ]
    }
   ],
   "source": [
    "# load data\n",
    "df_conf = get_confirmed()"
   ]
  },
  {
   "cell_type": "code",
   "execution_count": 4,
   "metadata": {
    "colab": {},
    "colab_type": "code",
    "id": "Tp03TYL7SIWy"
   },
   "outputs": [],
   "source": [
    "# scale the data with minmax scaler in order to normalize our data, \n",
    "# improving model precision and speeding up the convergence speed\n",
    "scaler = MinMaxScaler()\n",
    "train_conf = df_conf\n",
    "scaler.fit(train_conf)\n",
    "train_conf = scaler.transform(train_conf)"
   ]
  },
  {
   "cell_type": "code",
   "execution_count": 5,
   "metadata": {
    "colab": {},
    "colab_type": "code",
    "id": "s2pPB-3bW6wE"
   },
   "outputs": [],
   "source": [
    "n_input = 3\n",
    "n_features = 1\n",
    "# define a TimeseriesGenerator, which loads n_input as time step (our time window function does the SAME!) and convert\n",
    "# serveral samples into one sample to create a smooth time series that could be used by LSTM.\n",
    "generator_conf = TimeseriesGenerator(train_conf, train_conf, length=n_input, batch_size=8)\n",
    "#initialize a sequential model\n",
    "model = Sequential()\n",
    "# add a LSTM layer with relu activation.\n",
    "model.add(LSTM(200, activation='relu', input_shape=(n_input, n_features)))\n",
    "# add a dropout layer to balance the nuerons feature learning, and avoid dead relu nuerons (gradient vanish).\n",
    "model.add(Dropout(0.25))\n",
    "# output layer for our prediction (just a number, so Dense(1))\n",
    "model.add(Dense(1))\n",
    "# use adam for gradient descent and apply mse as loss function (Cool for regression-likes).\n",
    "model.compile(optimizer='adam', loss='mse')"
   ]
  },
  {
   "cell_type": "code",
   "execution_count": 6,
   "metadata": {
    "colab": {
     "base_uri": "https://localhost:8080/",
     "height": 1000
    },
    "colab_type": "code",
    "id": "Fh2MZj2BYXWO",
    "outputId": "0f7621e0-d395-4b1f-f86b-f9629a15e30f"
   },
   "outputs": [
    {
     "name": "stdout",
     "output_type": "stream",
     "text": [
      "WARNING:tensorflow:From <ipython-input-6-e11ab4feef72>:1: Model.fit_generator (from tensorflow.python.keras.engine.training) is deprecated and will be removed in a future version.\n",
      "Instructions for updating:\n",
      "Please use Model.fit, which supports generators.\n",
      "Epoch 1/90\n",
      "23/23 [==============================] - 0s 3ms/step - loss: 0.0996\n",
      "Epoch 2/90\n",
      "23/23 [==============================] - 0s 3ms/step - loss: 0.0498\n",
      "Epoch 3/90\n",
      "23/23 [==============================] - 0s 3ms/step - loss: 0.0163\n",
      "Epoch 4/90\n",
      "23/23 [==============================] - 0s 3ms/step - loss: 0.0074\n",
      "Epoch 5/90\n",
      "23/23 [==============================] - 0s 3ms/step - loss: 0.0042\n",
      "Epoch 6/90\n",
      "23/23 [==============================] - 0s 3ms/step - loss: 0.0040\n",
      "Epoch 7/90\n",
      "23/23 [==============================] - 0s 3ms/step - loss: 0.0039\n",
      "Epoch 8/90\n",
      "23/23 [==============================] - 0s 3ms/step - loss: 0.0041\n",
      "Epoch 9/90\n",
      "23/23 [==============================] - 0s 3ms/step - loss: 0.0047\n",
      "Epoch 10/90\n",
      "23/23 [==============================] - 0s 3ms/step - loss: 0.0049\n",
      "Epoch 11/90\n",
      "23/23 [==============================] - 0s 3ms/step - loss: 0.0042\n",
      "Epoch 12/90\n",
      "23/23 [==============================] - 0s 3ms/step - loss: 0.0041\n",
      "Epoch 13/90\n",
      "23/23 [==============================] - 0s 3ms/step - loss: 0.0041\n",
      "Epoch 14/90\n",
      "23/23 [==============================] - 0s 3ms/step - loss: 0.0044\n",
      "Epoch 15/90\n",
      "23/23 [==============================] - 0s 3ms/step - loss: 0.0047\n",
      "Epoch 16/90\n",
      "23/23 [==============================] - 0s 3ms/step - loss: 0.0046\n",
      "Epoch 17/90\n",
      "23/23 [==============================] - 0s 3ms/step - loss: 0.0040\n",
      "Epoch 18/90\n",
      "23/23 [==============================] - 0s 3ms/step - loss: 0.0050\n",
      "Epoch 19/90\n",
      "23/23 [==============================] - 0s 3ms/step - loss: 0.0039\n",
      "Epoch 20/90\n",
      "23/23 [==============================] - 0s 4ms/step - loss: 0.0047\n",
      "Epoch 21/90\n",
      "23/23 [==============================] - 0s 3ms/step - loss: 0.0039\n",
      "Epoch 22/90\n",
      "23/23 [==============================] - 0s 3ms/step - loss: 0.0040\n",
      "Epoch 23/90\n",
      "23/23 [==============================] - 0s 3ms/step - loss: 0.0045\n",
      "Epoch 24/90\n",
      "23/23 [==============================] - 0s 3ms/step - loss: 0.0040\n",
      "Epoch 25/90\n",
      "23/23 [==============================] - 0s 3ms/step - loss: 0.0041\n",
      "Epoch 26/90\n",
      "23/23 [==============================] - 0s 3ms/step - loss: 0.0037\n",
      "Epoch 27/90\n",
      "23/23 [==============================] - 0s 3ms/step - loss: 0.0042\n",
      "Epoch 28/90\n",
      "23/23 [==============================] - 0s 3ms/step - loss: 0.0039\n",
      "Epoch 29/90\n",
      "23/23 [==============================] - 0s 3ms/step - loss: 0.0040\n",
      "Epoch 30/90\n",
      "23/23 [==============================] - 0s 3ms/step - loss: 0.0037\n",
      "Epoch 31/90\n",
      "23/23 [==============================] - 0s 3ms/step - loss: 0.0040\n",
      "Epoch 32/90\n",
      "23/23 [==============================] - 0s 3ms/step - loss: 0.0035\n",
      "Epoch 33/90\n",
      "23/23 [==============================] - 0s 3ms/step - loss: 0.0034\n",
      "Epoch 34/90\n",
      "23/23 [==============================] - 0s 3ms/step - loss: 0.0046\n",
      "Epoch 35/90\n",
      "23/23 [==============================] - 0s 3ms/step - loss: 0.0050\n",
      "Epoch 36/90\n",
      "23/23 [==============================] - 0s 3ms/step - loss: 0.0043\n",
      "Epoch 37/90\n",
      "23/23 [==============================] - 0s 3ms/step - loss: 0.0036\n",
      "Epoch 38/90\n",
      "23/23 [==============================] - 0s 3ms/step - loss: 0.0047\n",
      "Epoch 39/90\n",
      "23/23 [==============================] - 0s 3ms/step - loss: 0.0043\n",
      "Epoch 40/90\n",
      "23/23 [==============================] - 0s 3ms/step - loss: 0.0034\n",
      "Epoch 41/90\n",
      "23/23 [==============================] - 0s 3ms/step - loss: 0.0051\n",
      "Epoch 42/90\n",
      "23/23 [==============================] - 0s 3ms/step - loss: 0.0046\n",
      "Epoch 43/90\n",
      "23/23 [==============================] - 0s 3ms/step - loss: 0.0047\n",
      "Epoch 44/90\n",
      "23/23 [==============================] - 0s 3ms/step - loss: 0.0035\n",
      "Epoch 45/90\n",
      "23/23 [==============================] - 0s 3ms/step - loss: 0.0035\n",
      "Epoch 46/90\n",
      "23/23 [==============================] - 0s 3ms/step - loss: 0.0034\n",
      "Epoch 47/90\n",
      "23/23 [==============================] - 0s 3ms/step - loss: 0.0044\n",
      "Epoch 48/90\n",
      "23/23 [==============================] - 0s 3ms/step - loss: 0.0042\n",
      "Epoch 49/90\n",
      "23/23 [==============================] - 0s 3ms/step - loss: 0.0052\n",
      "Epoch 50/90\n",
      "23/23 [==============================] - 0s 3ms/step - loss: 0.0060\n",
      "Epoch 51/90\n",
      "23/23 [==============================] - 0s 3ms/step - loss: 0.0054\n",
      "Epoch 52/90\n",
      "23/23 [==============================] - 0s 3ms/step - loss: 0.0039\n",
      "Epoch 53/90\n",
      "23/23 [==============================] - 0s 3ms/step - loss: 0.0039\n",
      "Epoch 54/90\n",
      "23/23 [==============================] - 0s 3ms/step - loss: 0.0035\n",
      "Epoch 55/90\n",
      "23/23 [==============================] - 0s 3ms/step - loss: 0.0030\n",
      "Epoch 56/90\n",
      "23/23 [==============================] - 0s 3ms/step - loss: 0.0046\n",
      "Epoch 57/90\n",
      "23/23 [==============================] - 0s 3ms/step - loss: 0.0034\n",
      "Epoch 58/90\n",
      "23/23 [==============================] - 0s 3ms/step - loss: 0.0034\n",
      "Epoch 59/90\n",
      "23/23 [==============================] - 0s 3ms/step - loss: 0.0033\n",
      "Epoch 60/90\n",
      "23/23 [==============================] - 0s 3ms/step - loss: 0.0049\n",
      "Epoch 61/90\n",
      "23/23 [==============================] - 0s 3ms/step - loss: 0.0027\n",
      "Epoch 62/90\n",
      "23/23 [==============================] - 0s 3ms/step - loss: 0.0034\n",
      "Epoch 63/90\n",
      "23/23 [==============================] - 0s 3ms/step - loss: 0.0037\n",
      "Epoch 64/90\n",
      "23/23 [==============================] - 0s 3ms/step - loss: 0.0029\n",
      "Epoch 65/90\n",
      "23/23 [==============================] - 0s 3ms/step - loss: 0.0031\n",
      "Epoch 66/90\n",
      "23/23 [==============================] - 0s 3ms/step - loss: 0.0034\n",
      "Epoch 67/90\n",
      "23/23 [==============================] - 0s 3ms/step - loss: 0.0044\n",
      "Epoch 68/90\n",
      "23/23 [==============================] - 0s 3ms/step - loss: 0.0037\n",
      "Epoch 69/90\n",
      "23/23 [==============================] - 0s 3ms/step - loss: 0.0031\n",
      "Epoch 70/90\n",
      "23/23 [==============================] - 0s 3ms/step - loss: 0.0028\n",
      "Epoch 71/90\n",
      "23/23 [==============================] - 0s 3ms/step - loss: 0.0032\n",
      "Epoch 72/90\n",
      "23/23 [==============================] - 0s 3ms/step - loss: 0.0039\n",
      "Epoch 73/90\n",
      "23/23 [==============================] - 0s 3ms/step - loss: 0.0028\n",
      "Epoch 74/90\n",
      "23/23 [==============================] - 0s 3ms/step - loss: 0.0030\n",
      "Epoch 75/90\n",
      "23/23 [==============================] - 0s 3ms/step - loss: 0.0026\n",
      "Epoch 76/90\n",
      "23/23 [==============================] - 0s 3ms/step - loss: 0.0023\n",
      "Epoch 77/90\n",
      "23/23 [==============================] - 0s 3ms/step - loss: 0.0031\n",
      "Epoch 78/90\n",
      "23/23 [==============================] - 0s 3ms/step - loss: 0.0032\n",
      "Epoch 79/90\n",
      "23/23 [==============================] - 0s 3ms/step - loss: 0.0038\n",
      "Epoch 80/90\n",
      "23/23 [==============================] - 0s 4ms/step - loss: 0.0034\n",
      "Epoch 81/90\n",
      "23/23 [==============================] - 0s 5ms/step - loss: 0.0035\n",
      "Epoch 82/90\n",
      "23/23 [==============================] - 0s 4ms/step - loss: 0.0025\n",
      "Epoch 83/90\n",
      "23/23 [==============================] - 0s 6ms/step - loss: 0.0034\n",
      "Epoch 84/90\n",
      "23/23 [==============================] - 0s 4ms/step - loss: 0.0030\n",
      "Epoch 85/90\n",
      "23/23 [==============================] - 0s 5ms/step - loss: 0.0030\n",
      "Epoch 86/90\n",
      "23/23 [==============================] - 0s 5ms/step - loss: 0.0026\n",
      "Epoch 87/90\n",
      "23/23 [==============================] - 0s 4ms/step - loss: 0.0029\n",
      "Epoch 88/90\n",
      "23/23 [==============================] - 0s 4ms/step - loss: 0.0021\n",
      "Epoch 89/90\n",
      "23/23 [==============================] - 0s 3ms/step - loss: 0.0026\n",
      "Epoch 90/90\n",
      "23/23 [==============================] - 0s 4ms/step - loss: 0.0026\n"
     ]
    },
    {
     "data": {
      "text/plain": [
       "<tensorflow.python.keras.callbacks.History at 0x13f7a06d0>"
      ]
     },
     "execution_count": 6,
     "metadata": {},
     "output_type": "execute_result"
    }
   ],
   "source": [
    "# fit the model with above configurations and a epoch of 90 (this is enough for a poor dataset we have...)\n",
    "model.fit_generator(generator_conf,epochs=90)"
   ]
  },
  {
   "cell_type": "code",
   "execution_count": 7,
   "metadata": {
    "colab": {},
    "colab_type": "code",
    "id": "a9mcgdNtYZuW"
   },
   "outputs": [],
   "source": [
    "pred_list_conf = []\n",
    "batch = train_conf[-n_input:].reshape((1, n_input, n_features))\n",
    "# loads preditions to the list.\n",
    "for i in range(n_input):   \n",
    "    pred_list_conf.append(model.predict(batch)[0]) \n",
    "    batch = np.append(batch[:,1:,:],[[pred_list_conf[i]]],axis=1)"
   ]
  },
  {
   "cell_type": "code",
   "execution_count": 8,
   "metadata": {
    "colab": {
     "base_uri": "https://localhost:8080/",
     "height": 34
    },
    "colab_type": "code",
    "id": "GsIctJL-ZAeC",
    "outputId": "5fafb745-4cba-4c27-b2bd-c5b2f0b7e35b"
   },
   "outputs": [
    {
     "data": {
      "text/plain": [
       "59499.20202636719"
      ]
     },
     "execution_count": 8,
     "metadata": {},
     "output_type": "execute_result"
    }
   ],
   "source": [
    "# scale our predition back to real number and read it out from the list.\n",
    "pred_list_conf = scaler.inverse_transform(pred_list_conf)\n",
    "fc_conf = pred_list_conf[0][0]\n",
    "fc_conf"
   ]
  },
  {
   "cell_type": "markdown",
   "metadata": {
    "colab_type": "text",
    "id": "8ON8BPIBsTxG"
   },
   "source": [
    "## Summary"
   ]
  },
  {
   "cell_type": "code",
   "execution_count": 9,
   "metadata": {
    "colab": {
     "base_uri": "https://localhost:8080/",
     "height": 260
    },
    "colab_type": "code",
    "id": "qfmCiHWxsVtG",
    "outputId": "e54a4e22-9a48-41d9-c2b7-c4515e399273",
    "scrolled": true
   },
   "outputs": [
    {
     "name": "stdout",
     "output_type": "stream",
     "text": [
      "Positived cases on the last day: 57948\n",
      "Positive cases forecasted by model 59499 \n",
      "\n"
     ]
    }
   ],
   "source": [
    "print(\"Positived cases on the last day:\", df_conf.iloc[-1]['Infected Increase'])\n",
    "print(\"Positive cases forecasted by model\", int(fc_conf), \"\\n\")"
   ]
  },
  {
   "cell_type": "code",
   "execution_count": null,
   "metadata": {},
   "outputs": [],
   "source": []
  }
 ],
 "metadata": {
  "colab": {
   "collapsed_sections": [],
   "name": "lstm-imprv.ipynb",
   "provenance": []
  },
  "kernelspec": {
   "display_name": "Python 3",
   "language": "python",
   "name": "python3"
  },
  "language_info": {
   "codemirror_mode": {
    "name": "ipython",
    "version": 3
   },
   "file_extension": ".py",
   "mimetype": "text/x-python",
   "name": "python",
   "nbconvert_exporter": "python",
   "pygments_lexer": "ipython3",
   "version": "3.7.4"
  }
 },
 "nbformat": 4,
 "nbformat_minor": 1
}
